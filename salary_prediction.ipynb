{
 "cells": [
  {
   "attachments": {},
   "cell_type": "markdown",
   "id": "f76547ae",
   "metadata": {},
   "source": [
    "## Texas employees salary prediction\n",
    "\n",
    "\n",
    "Can you accurately predict the salary?"
   ]
  },
  {
   "cell_type": "code",
   "execution_count": null,
   "metadata": {},
   "outputs": [],
   "source": [
    "#Import Basic Modules\n",
    "\n",
    "import pandas as pd \n",
    "import numpy as np\n",
    "import matplotlib.pyplot as plt\n",
    "import seaborn as sns \n",
    "import warnings\n",
    "warnings.filterwarnings('ignore')"
   ]
  },
  {
   "cell_type": "code",
   "execution_count": null,
   "id": "dc7af01e",
   "metadata": {},
   "outputs": [],
   "source": [
    "df = pd.read_csv(\"C:\\\\Users\\\\Ravi Nadageri\\\\Documents\\\\Github_projects\\\\TexasSalaryPrediction-main\\\\salary_data_set\\\\salary.csv\")\n",
    "df.head()"
   ]
  },
  {
   "cell_type": "code",
   "execution_count": null,
   "id": "6b34703d",
   "metadata": {},
   "outputs": [],
   "source": [
    "df.shape"
   ]
  },
  {
   "attachments": {},
   "cell_type": "markdown",
   "id": "2c7b2329",
   "metadata": {},
   "source": [
    "Information of data set using info method"
   ]
  },
  {
   "cell_type": "code",
   "execution_count": null,
   "id": "157ffe0c",
   "metadata": {},
   "outputs": [],
   "source": [
    "df.info()"
   ]
  },
  {
   "attachments": {},
   "cell_type": "markdown",
   "id": "95e4fbf1",
   "metadata": {},
   "source": [
    "Lets check null values"
   ]
  },
  {
   "cell_type": "code",
   "execution_count": null,
   "id": "984c02e7",
   "metadata": {},
   "outputs": [],
   "source": [
    "df.isnull().sum()"
   ]
  },
  {
   "attachments": {},
   "cell_type": "markdown",
   "id": "9db7f5f9",
   "metadata": {},
   "source": [
    "other method to see the null data column list"
   ]
  },
  {
   "cell_type": "code",
   "execution_count": null,
   "id": "45fcda44",
   "metadata": {},
   "outputs": [],
   "source": [
    "nullcol = (col for col in df.columns if df[col].isnull().sum()>0)\n",
    "list(nullcol)"
   ]
  },
  {
   "attachments": {},
   "cell_type": "markdown",
   "id": "27fff868",
   "metadata": {},
   "source": [
    "Lets check for data duplicates"
   ]
  },
  {
   "cell_type": "code",
   "execution_count": null,
   "id": "9ae8b208",
   "metadata": {},
   "outputs": [],
   "source": [
    "df.duplicated().sum()"
   ]
  },
  {
   "cell_type": "code",
   "execution_count": null,
   "id": "4bca4c3a",
   "metadata": {},
   "outputs": [],
   "source": [
    "df.dropna(axis=1,inplace=True)"
   ]
  },
  {
   "cell_type": "code",
   "execution_count": null,
   "id": "7e18284b",
   "metadata": {},
   "outputs": [],
   "source": [
    "df.info()"
   ]
  },
  {
   "cell_type": "code",
   "execution_count": null,
   "id": "8eea7af4",
   "metadata": {},
   "outputs": [],
   "source": [
    "df.keys()"
   ]
  },
  {
   "cell_type": "code",
   "execution_count": null,
   "id": "b59543d6",
   "metadata": {},
   "outputs": [],
   "source": [
    "print(\" \\nCount total NaN at each column in a DataFrame : \\n\",\n",
    "df.isnull().sum())"
   ]
  },
  {
   "cell_type": "code",
   "execution_count": null,
   "id": "72db7951",
   "metadata": {},
   "outputs": [],
   "source": [
    "df.head(5)"
   ]
  },
  {
   "cell_type": "code",
   "execution_count": null,
   "id": "7c9e72ba",
   "metadata": {},
   "outputs": [],
   "source": [
    "df.columns=['AGENCY', 'AGENCYNAME', 'LASTNAME', 'FIRSTNAME', 'MI', 'CLASSCODE','CLASSTITLE', 'ETHNICITY', 'GENDER', 'STATUS', 'EMPLOYDATE',\n",
    "       'HRLYRATE', 'HRSPERWK', 'MONTHLY', 'ANNUAL', 'STATENUMBER']"
   ]
  },
  {
   "cell_type": "code",
   "execution_count": null,
   "id": "3234a71d",
   "metadata": {},
   "outputs": [],
   "source": [
    "df.head(2)"
   ]
  },
  {
   "attachments": {},
   "cell_type": "markdown",
   "id": "f258c060",
   "metadata": {},
   "source": [
    "Lets convert the date time format for the EMPLOY Date column"
   ]
  },
  {
   "cell_type": "code",
   "execution_count": null,
   "id": "61c3c9f9",
   "metadata": {},
   "outputs": [],
   "source": [
    "import datetime\n",
    "df['EMPLOYDATE']= df['EMPLOYDATE'].astype('datetime64[ns]')"
   ]
  },
  {
   "cell_type": "code",
   "execution_count": null,
   "id": "cd869bfb",
   "metadata": {},
   "outputs": [],
   "source": [
    "df.head(5)"
   ]
  },
  {
   "cell_type": "code",
   "execution_count": null,
   "id": "bac247da",
   "metadata": {},
   "outputs": [],
   "source": [
    "from datetime import datetime,date\n",
    "today=str(date.today())\n",
    "df['TODAY']= datetime.strptime(today, '%Y-%m-%d')"
   ]
  },
  {
   "cell_type": "code",
   "execution_count": null,
   "id": "0fcb8679",
   "metadata": {},
   "outputs": [],
   "source": [
    "df['EMP_DAYS']= df['TODAY']-df['EMPLOYDATE']"
   ]
  },
  {
   "cell_type": "code",
   "execution_count": null,
   "id": "7d81901d",
   "metadata": {},
   "outputs": [],
   "source": [
    "df['EMP_DAYS']"
   ]
  },
  {
   "cell_type": "code",
   "execution_count": null,
   "id": "240a1616",
   "metadata": {},
   "outputs": [],
   "source": [
    "df['EMP_DAYS'] = df['EMP_DAYS'].dt.days"
   ]
  },
  {
   "cell_type": "code",
   "execution_count": null,
   "id": "2c9bfa15",
   "metadata": {},
   "outputs": [],
   "source": [
    "df['EMP_DAYS'].dtypes"
   ]
  },
  {
   "cell_type": "code",
   "execution_count": null,
   "id": "e80d0211",
   "metadata": {},
   "outputs": [],
   "source": [
    "sns.histplot(data=df,x='EMP_DAYS',bins=100)\n",
    "plt.show()"
   ]
  },
  {
   "cell_type": "code",
   "execution_count": null,
   "id": "bb9c1ea9",
   "metadata": {},
   "outputs": [],
   "source": [
    "df.head()"
   ]
  },
  {
   "attachments": {},
   "cell_type": "markdown",
   "id": "7ac2ee6c",
   "metadata": {},
   "source": [
    "Pandas profile importing"
   ]
  },
  {
   "cell_type": "code",
   "execution_count": null,
   "id": "7757f170",
   "metadata": {},
   "outputs": [],
   "source": [
    "pip install pandas-profiling"
   ]
  },
  {
   "cell_type": "code",
   "execution_count": null,
   "id": "c865dbac",
   "metadata": {},
   "outputs": [],
   "source": [
    "numaric_data=df.select_dtypes(include=['int64','float64'])\n",
    "numaric_data.head()"
   ]
  },
  {
   "attachments": {},
   "cell_type": "markdown",
   "id": "429a7551",
   "metadata": {},
   "source": [
    "lets start the visualization of data"
   ]
  },
  {
   "cell_type": "code",
   "execution_count": null,
   "id": "c7b5a83a",
   "metadata": {},
   "outputs": [],
   "source": [
    "plt.figure(figsize=(12,8))\n",
    "sns.heatmap(df.corr(),annot=True)\n",
    "plt.show()"
   ]
  },
  {
   "cell_type": "code",
   "execution_count": null,
   "id": "ab5cee10",
   "metadata": {},
   "outputs": [],
   "source": [
    "df.corr().style.background_gradient(cmap='Dark2')"
   ]
  },
  {
   "cell_type": "code",
   "execution_count": null,
   "id": "88881452",
   "metadata": {},
   "outputs": [],
   "source": [
    "plt.figure(figsize=(12,4))\n",
    "sns.countplot(df['GENDER'])\n",
    "plt.legend()\n",
    "plt.show()"
   ]
  },
  {
   "attachments": {},
   "cell_type": "markdown",
   "id": "3bd8b5bf",
   "metadata": {},
   "source": [
    "Female counts are move than the male."
   ]
  },
  {
   "cell_type": "code",
   "execution_count": null,
   "id": "c19d61db",
   "metadata": {},
   "outputs": [],
   "source": [
    "categorical_data=df.select_dtypes(exclude=['int64','float64'])\n",
    "categorical_data.head()"
   ]
  },
  {
   "attachments": {},
   "cell_type": "markdown",
   "id": "8632cd26",
   "metadata": {},
   "source": [
    "Lets see what are the unique data in all columns"
   ]
  },
  {
   "cell_type": "code",
   "execution_count": null,
   "id": "cb83c96a",
   "metadata": {},
   "outputs": [],
   "source": [
    "for col in df.columns:\n",
    "    print(col,':',len(df[col].unique()),'labels')"
   ]
  },
  {
   "cell_type": "code",
   "execution_count": null,
   "id": "9f810e05",
   "metadata": {},
   "outputs": [],
   "source": [
    "df.describe(include='object')"
   ]
  },
  {
   "attachments": {},
   "cell_type": "markdown",
   "id": "e3786548",
   "metadata": {},
   "source": [
    "Another method where we can see the Object columns unique data"
   ]
  },
  {
   "cell_type": "code",
   "execution_count": null,
   "id": "97d9ec96",
   "metadata": {},
   "outputs": [],
   "source": [
    "for col in df.describe(include='object').columns:\n",
    "    print(col)\n",
    "    print(df[col].unique())\n",
    "    print('<>'*50)"
   ]
  },
  {
   "cell_type": "code",
   "execution_count": null,
   "id": "8ed4e535",
   "metadata": {},
   "outputs": [],
   "source": [
    "class_encoding=categorical_data['CLASSCODE'].value_counts().to_dict()"
   ]
  },
  {
   "cell_type": "code",
   "execution_count": null,
   "id": "7635e08e",
   "metadata": {},
   "outputs": [],
   "source": [
    "class_encoding"
   ]
  },
  {
   "cell_type": "code",
   "execution_count": null,
   "id": "a4ec0b03",
   "metadata": {},
   "outputs": [],
   "source": [
    "categorical_data.head(2)"
   ]
  },
  {
   "cell_type": "code",
   "execution_count": null,
   "id": "99b72bba",
   "metadata": {},
   "outputs": [],
   "source": [
    "categorical_data['CLASSCODE'] = categorical_data['CLASSCODE'].map(class_encoding)\n",
    "categorical_data.head(2)"
   ]
  },
  {
   "cell_type": "code",
   "execution_count": null,
   "id": "f9f7025a",
   "metadata": {},
   "outputs": [],
   "source": [
    "class_title_encoding=categorical_data['CLASSTITLE'].value_counts().to_dict()\n",
    "class_title_encoding"
   ]
  },
  {
   "cell_type": "code",
   "execution_count": null,
   "id": "503a9de2",
   "metadata": {},
   "outputs": [],
   "source": [
    "categorical_data['CLASSTITLE']=categorical_data['CLASSTITLE'].map(class_title_encoding)\n",
    "categorical_data.head(4)"
   ]
  },
  {
   "cell_type": "code",
   "execution_count": null,
   "id": "1e5cbd3a",
   "metadata": {},
   "outputs": [],
   "source": [
    "df.head(2)"
   ]
  },
  {
   "cell_type": "code",
   "execution_count": null,
   "id": "2a579004",
   "metadata": {},
   "outputs": [],
   "source": [
    "df.replace(' ','other',inplace=True)"
   ]
  },
  {
   "cell_type": "code",
   "execution_count": null,
   "id": "afa1ec10",
   "metadata": {},
   "outputs": [],
   "source": [
    "df.head(2)"
   ]
  },
  {
   "cell_type": "code",
   "execution_count": null,
   "id": "b7068a52",
   "metadata": {},
   "outputs": [],
   "source": [
    "ordinal_labels=df.groupby(['MI'])['ANNUAL'].mean().sort_values().index\n",
    "ordinal_labels"
   ]
  },
  {
   "cell_type": "code",
   "execution_count": null,
   "id": "71b49712",
   "metadata": {},
   "outputs": [],
   "source": [
    "ordinal_labels2={k:i for i,k in enumerate(ordinal_labels,0)}\n",
    "ordinal_labels2"
   ]
  },
  {
   "cell_type": "code",
   "execution_count": null,
   "id": "4ebe6550",
   "metadata": {},
   "outputs": [],
   "source": [
    "df['MI']=df['MI'].map(ordinal_labels2)\n",
    "df.head(5)"
   ]
  },
  {
   "cell_type": "code",
   "execution_count": null,
   "id": "fba81888",
   "metadata": {},
   "outputs": [],
   "source": [
    "categorical_data.head(5)"
   ]
  },
  {
   "cell_type": "code",
   "execution_count": null,
   "id": "d985dfa7",
   "metadata": {},
   "outputs": [],
   "source": [
    "categorical_data.drop(['LASTNAME','FIRSTNAME'],axis=1,inplace=True)\n",
    "categorical_data.head(3)"
   ]
  },
  {
   "cell_type": "code",
   "execution_count": null,
   "id": "d4b8c91d",
   "metadata": {},
   "outputs": [],
   "source": [
    "categorical_data.shape"
   ]
  },
  {
   "cell_type": "code",
   "execution_count": null,
   "id": "6a066d60",
   "metadata": {},
   "outputs": [],
   "source": [
    "df.shape"
   ]
  },
  {
   "cell_type": "code",
   "execution_count": null,
   "id": "38763948",
   "metadata": {},
   "outputs": [],
   "source": [
    "categorical_data['GENDER']=df['GENDER']\n",
    "from sklearn.preprocessing import LabelEncoder\n",
    "encoder=LabelEncoder()\n",
    "categorical_data['GENDER']=encoder.fit_transform(categorical_data['GENDER'])"
   ]
  },
  {
   "cell_type": "code",
   "execution_count": null,
   "id": "011c1b5c",
   "metadata": {},
   "outputs": [],
   "source": [
    "categorical_data['ETHNICITY'].value_counts()"
   ]
  },
  {
   "cell_type": "code",
   "execution_count": null,
   "id": "08d66272",
   "metadata": {},
   "outputs": [],
   "source": [
    "categorical_data['STATUS'].value_counts()"
   ]
  },
  {
   "cell_type": "code",
   "execution_count": null,
   "id": "45e982ce",
   "metadata": {},
   "outputs": [],
   "source": [
    "categorical_data['STATUS']=encoder.fit_transform(categorical_data['STATUS'])\n",
    "categorical_data['ETHNICITY']=encoder.fit_transform(categorical_data['ETHNICITY'])"
   ]
  },
  {
   "cell_type": "code",
   "execution_count": null,
   "id": "17deacea",
   "metadata": {},
   "outputs": [],
   "source": [
    "categorical_data.head(5)"
   ]
  },
  {
   "cell_type": "code",
   "execution_count": null,
   "id": "4cf0338f",
   "metadata": {},
   "outputs": [],
   "source": [
    "categorical_data.head(5)"
   ]
  },
  {
   "cell_type": "code",
   "execution_count": null,
   "id": "793a69c3",
   "metadata": {},
   "outputs": [],
   "source": [
    "categorical_data['MI'] = df['MI']"
   ]
  },
  {
   "cell_type": "code",
   "execution_count": null,
   "id": "0270988a",
   "metadata": {},
   "outputs": [],
   "source": [
    "after_EDA_data=pd.concat([categorical_data,numaric_data],axis=1)"
   ]
  },
  {
   "cell_type": "code",
   "execution_count": null,
   "id": "089cc502",
   "metadata": {},
   "outputs": [],
   "source": [
    "after_EDA_data.head(5)"
   ]
  },
  {
   "cell_type": "code",
   "execution_count": null,
   "id": "8e478c47",
   "metadata": {},
   "outputs": [],
   "source": [
    "after_EDA_data.drop(['EMPLOYDATE','TODAY'],inplace=True,axis=1)"
   ]
  },
  {
   "cell_type": "code",
   "execution_count": null,
   "id": "3efbe129",
   "metadata": {},
   "outputs": [],
   "source": [
    "after_EDA_data.head(5)"
   ]
  },
  {
   "cell_type": "code",
   "execution_count": null,
   "id": "8b704b3c",
   "metadata": {},
   "outputs": [],
   "source": [
    "import seaborn as sns \n",
    "corr1 = after_EDA_data.corr()\n",
    "fig, ax = plt.subplots(figsize=(25,20))\n",
    "sns.heatmap(corr1,linewidths=.5,cmap= 'Blues', ax=ax,annot=True)\n",
    "plt.show()"
   ]
  },
  {
   "attachments": {},
   "cell_type": "markdown",
   "id": "bf98b970",
   "metadata": {},
   "source": [
    "Data preprocessing"
   ]
  },
  {
   "cell_type": "code",
   "execution_count": null,
   "id": "048cd8e2",
   "metadata": {},
   "outputs": [],
   "source": [
    "from scipy.stats import skew\n",
    "print(numaric_data['HRLYRATE'].skew())\n",
    "numaric_data['HRSPERWK'].skew()"
   ]
  },
  {
   "cell_type": "code",
   "execution_count": null,
   "id": "54214137",
   "metadata": {},
   "outputs": [],
   "source": [
    "skwed_data_check=numaric_data"
   ]
  },
  {
   "cell_type": "code",
   "execution_count": null,
   "id": "bc1a1b31",
   "metadata": {},
   "outputs": [],
   "source": [
    "skwed_data_check"
   ]
  },
  {
   "attachments": {},
   "cell_type": "markdown",
   "id": "23f46eea",
   "metadata": {},
   "source": [
    "# Outliers"
   ]
  },
  {
   "cell_type": "code",
   "execution_count": null,
   "id": "59971d04",
   "metadata": {},
   "outputs": [],
   "source": [
    "plt.figure(figsize=(12,2))\n",
    "sns.boxplot(numaric_data['AGENCY'])"
   ]
  },
  {
   "cell_type": "code",
   "execution_count": null,
   "id": "bb023da8",
   "metadata": {},
   "outputs": [],
   "source": [
    "plt.figure(figsize=(12,2))\n",
    "sns.boxplot(numaric_data['EMP_DAYS'])\n",
    "# numaric_data"
   ]
  },
  {
   "cell_type": "code",
   "execution_count": null,
   "id": "136a4ed1",
   "metadata": {},
   "outputs": [],
   "source": [
    "plt.figure(figsize=(12,2))\n",
    "sns.boxplot(numaric_data['HRLYRATE'])"
   ]
  },
  {
   "cell_type": "code",
   "execution_count": null,
   "id": "c0cb0ecb",
   "metadata": {},
   "outputs": [],
   "source": [
    "plt.figure(figsize=(12,2))\n",
    "sns.boxplot(numaric_data['HRSPERWK'])"
   ]
  },
  {
   "cell_type": "code",
   "execution_count": null,
   "id": "4ce36f47",
   "metadata": {},
   "outputs": [],
   "source": [
    "plt.figure(figsize=(12,2))\n",
    "sns.boxplot(numaric_data['MONTHLY'])"
   ]
  },
  {
   "cell_type": "code",
   "execution_count": null,
   "id": "99aff6d9",
   "metadata": {},
   "outputs": [],
   "source": [
    "plt.figure(figsize=(12,2))\n",
    "sns.boxplot(numaric_data['ANNUAL'])"
   ]
  },
  {
   "cell_type": "code",
   "execution_count": null,
   "id": "a98df5a7",
   "metadata": {},
   "outputs": [],
   "source": [
    "plt.figure(figsize=(12,2))\n",
    "sns.boxplot(numaric_data['STATENUMBER'])"
   ]
  },
  {
   "cell_type": "code",
   "execution_count": null,
   "id": "39d96d0a",
   "metadata": {},
   "outputs": [],
   "source": [
    "print(numaric_data['EMP_DAYS'].median())\n",
    "print(numaric_data['HRLYRATE'].median())\n",
    "print(numaric_data[\"HRSPERWK\"].median())\n",
    "print(numaric_data[\"MONTHLY\"].median())\n",
    "print(numaric_data[\"ANNUAL\"].median())"
   ]
  },
  {
   "cell_type": "code",
   "execution_count": null,
   "id": "f6ce6b11",
   "metadata": {},
   "outputs": [],
   "source": [
    "numaric_data.drop('MONTHLY',axis=1)"
   ]
  },
  {
   "cell_type": "code",
   "execution_count": null,
   "id": "67d461ab",
   "metadata": {},
   "outputs": [],
   "source": [
    "import scipy.stats as stat\n",
    "import pylab\n",
    "#### Q-Q plot\n",
    "def plot_data(numaric_data,feature):\n",
    "    plt.figure(figsize=(10,6))\n",
    "    plt.subplot(1,2,1)\n",
    "    numaric_data[feature].hist()\n",
    "    plt.subplot(1,2,2)\n",
    "    stat.probplot(numaric_data[feature],dist='norm',plot=pylab)\n",
    "    plt.show()"
   ]
  },
  {
   "cell_type": "code",
   "execution_count": null,
   "id": "911ddd8c",
   "metadata": {},
   "outputs": [],
   "source": [
    "plot_data(numaric_data,'AGENCY')"
   ]
  },
  {
   "cell_type": "code",
   "execution_count": null,
   "id": "bc01dccf",
   "metadata": {},
   "outputs": [],
   "source": [
    "plot_data(numaric_data,'EMP_DAYS')"
   ]
  },
  {
   "cell_type": "code",
   "execution_count": null,
   "id": "52c1e017",
   "metadata": {},
   "outputs": [],
   "source": [
    "plot_data(numaric_data,'HRLYRATE')"
   ]
  },
  {
   "cell_type": "code",
   "execution_count": null,
   "id": "560c632b",
   "metadata": {},
   "outputs": [],
   "source": [
    "plot_data(numaric_data,'HRSPERWK')"
   ]
  },
  {
   "cell_type": "code",
   "execution_count": null,
   "id": "0f0f22c7",
   "metadata": {},
   "outputs": [],
   "source": [
    "plot_data(numaric_data,'ANNUAL')"
   ]
  },
  {
   "cell_type": "code",
   "execution_count": null,
   "id": "edb60913",
   "metadata": {},
   "outputs": [],
   "source": [
    "plot_data(numaric_data,'STATENUMBER')"
   ]
  },
  {
   "cell_type": "code",
   "execution_count": null,
   "id": "68dfccca",
   "metadata": {},
   "outputs": [],
   "source": [
    "after_EDA_data.drop('AGENCYNAME',axis=1,inplace=True)"
   ]
  },
  {
   "cell_type": "code",
   "execution_count": null,
   "id": "3537c53a",
   "metadata": {},
   "outputs": [],
   "source": [
    "after_EDA_data.info()"
   ]
  },
  {
   "attachments": {},
   "cell_type": "markdown",
   "id": "cf665d82",
   "metadata": {},
   "source": [
    "# Modeling \n",
    "- Lets start for preparing "
   ]
  },
  {
   "cell_type": "code",
   "execution_count": null,
   "id": "a1785701",
   "metadata": {},
   "outputs": [],
   "source": [
    "after_EDA_data.keys()"
   ]
  },
  {
   "cell_type": "code",
   "execution_count": null,
   "id": "37b8fb9f",
   "metadata": {},
   "outputs": [],
   "source": [
    "X = after_EDA_data.drop('ANNUAL',axis=1)\n",
    "y=after_EDA_data['ANNUAL']"
   ]
  },
  {
   "cell_type": "code",
   "execution_count": null,
   "id": "628cf05f",
   "metadata": {},
   "outputs": [],
   "source": [
    "X.head(5)"
   ]
  },
  {
   "attachments": {},
   "cell_type": "markdown",
   "id": "b46dfb3f",
   "metadata": {},
   "source": [
    "Assign X and Y "
   ]
  },
  {
   "cell_type": "code",
   "execution_count": null,
   "id": "5edccf67",
   "metadata": {},
   "outputs": [],
   "source": [
    "y=after_EDA_data['ANNUAL']"
   ]
  },
  {
   "cell_type": "code",
   "execution_count": null,
   "id": "1ea1edf5",
   "metadata": {},
   "outputs": [],
   "source": [
    "y.head(5)"
   ]
  },
  {
   "cell_type": "code",
   "execution_count": null,
   "id": "efe58254",
   "metadata": {},
   "outputs": [],
   "source": [
    "from sklearn.preprocessing import StandardScaler\n",
    "scaler = StandardScaler()\n",
    "\n",
    "scaled_data_X = scaler.fit_transform(X)"
   ]
  },
  {
   "cell_type": "code",
   "execution_count": null,
   "id": "a258b311",
   "metadata": {},
   "outputs": [],
   "source": [
    "X.isnull().sum()"
   ]
  },
  {
   "attachments": {},
   "cell_type": "markdown",
   "id": "a5fb1520",
   "metadata": {},
   "source": [
    "Have look on # Feature importance"
   ]
  },
  {
   "cell_type": "code",
   "execution_count": null,
   "id": "73965af5",
   "metadata": {},
   "outputs": [],
   "source": [
    "from sklearn.model_selection import train_test_split\n",
    "x_train,x_test,y_train,y_test=train_test_split(X,y,test_size=0.2,random_state=20)\n",
    "x_train.shape,x_test.shape,y_train.shape,y_test.shape"
   ]
  },
  {
   "cell_type": "code",
   "execution_count": null,
   "id": "09335433",
   "metadata": {},
   "outputs": [],
   "source": [
    "from sklearn.tree import DecisionTreeRegressor,ExtraTreeRegressor\n",
    "from sklearn.neighbors import KNeighborsRegressor\n",
    "from sklearn.linear_model import LogisticRegression\n",
    "from sklearn.model_selection import GridSearchCV\n",
    "from sklearn.linear_model import Lasso, Ridge, ElasticNet\n",
    "from sklearn.ensemble import GradientBoostingRegressor,AdaBoostRegressor,RandomForestRegressor\n",
    "from sklearn.linear_model import LinearRegression\n",
    "from sklearn.svm import SVR\n",
    "from sklearn.metrics import mean_absolute_error \n",
    "from sklearn.metrics import mean_squared_error \n",
    "from sklearn.metrics import median_absolute_error,r2_score\n",
    "from sklearn.model_selection import GridSearchCV,RandomizedSearchCV"
   ]
  },
  {
   "attachments": {},
   "cell_type": "markdown",
   "id": "34508160",
   "metadata": {},
   "source": [
    "# DecisionTree"
   ]
  },
  {
   "cell_type": "code",
   "execution_count": null,
   "id": "e2bc8c12",
   "metadata": {},
   "outputs": [],
   "source": [
    "\n",
    "model=DecisionTreeRegressor()\n",
    "model.fit(x_train,y_train)\n",
    "y_predict=model.predict(x_test)\n",
    "print('DECISIONTREE REGRESSOR',model.score(x_train,y_train)*100)\n",
    "print('DECISIONTREE REGRESSOR',model.score(x_test,y_test)*100)\n",
    "print('Mean Squard Error IS :     ',mean_squared_error(y_test, y_predict))\n",
    "print('Mean Absolute Error Is :   ',mean_absolute_error(y_test, y_predict))\n",
    "print('Median Absolute Error Is : ',median_absolute_error(y_test, y_predict))"
   ]
  },
  {
   "cell_type": "code",
   "execution_count": null,
   "id": "6c1082a2",
   "metadata": {},
   "outputs": [],
   "source": [
    "from sklearn.metrics import precision_recall_curve,r2_score,confusion_matrix,classification_report\n",
    "print(r2_score(y_test,y_predict))"
   ]
  },
  {
   "attachments": {},
   "cell_type": "markdown",
   "id": "a289f4d6",
   "metadata": {},
   "source": [
    "# Hyper parameter tunning for DecisionTree"
   ]
  },
  {
   "cell_type": "code",
   "execution_count": null,
   "id": "d24c08e5",
   "metadata": {},
   "outputs": [],
   "source": [
    "from scipy.stats import randint\n",
    "\n",
    "# Setup the parameters and distributions to sample from: param_dist\n",
    "param_dist = {\"max_depth\": [3,4,5,6], \n",
    "              \"max_features\": randint(1, 9), \n",
    "              \"min_samples_leaf\": randint(1, 9)} "
   ]
  },
  {
   "cell_type": "code",
   "execution_count": null,
   "id": "d1745f8c",
   "metadata": {},
   "outputs": [],
   "source": [
    "# Instantiate a Decision Tree regressor: tree\n",
    "tree = DecisionTreeRegressor()\n",
    "  \n",
    "# Instantiate the RandomizedSearchCV object: tree_cv\n",
    "tree_cv = RandomizedSearchCV(tree, param_dist, cv = 5) \n",
    "\n",
    "# Fit it to the data\n",
    "tree_cv.fit(X, y) \n",
    "  \n",
    "# Print the tuned parameters and score \n",
    "print(\"Tuned Decision Tree Parameters: {}\".format(tree_cv.best_params_)) \n",
    "print(\"Best score is {}\".format(tree_cv.best_score_)) "
   ]
  },
  {
   "attachments": {},
   "cell_type": "markdown",
   "id": "6edfcd27",
   "metadata": {},
   "source": [
    "# K-Nearest Neighbor(KNN)"
   ]
  },
  {
   "cell_type": "code",
   "execution_count": null,
   "id": "9203ca2f",
   "metadata": {},
   "outputs": [],
   "source": [
    "model=KNeighborsRegressor(n_neighbors=25,leaf_size=8,metric= 'minkowski',weights='distance',p=2)\n",
    "model.fit(x_train,y_train)\n",
    "y_predict=model.predict(x_test)\n",
    "print('KNeighborsRegressor',model.score(x_train,y_train)*100)\n",
    "print('KNeighborsRegressor',model.score(x_test,y_test)*100)\n",
    "print('Mean Squard Error IS :     ',mean_squared_error(y_test, y_predict))\n",
    "print('Mean Absolute Error Is :   ',mean_absolute_error(y_test, y_predict))\n",
    "print('Median Absolute Error Is : ',median_absolute_error(y_test, y_predict))"
   ]
  },
  {
   "attachments": {},
   "cell_type": "markdown",
   "id": "43e2726e",
   "metadata": {},
   "source": [
    "# Hyper parameter tunning for KNN"
   ]
  },
  {
   "cell_type": "code",
   "execution_count": null,
   "id": "02c39951",
   "metadata": {},
   "outputs": [],
   "source": [
    "#List Hyperparameters that we want to tune.\n",
    "n_neighbors=list(range(1,30))\n",
    "weights=['uniform','distance']\n",
    "leaf_size=list(range(1,50))\n",
    "algoritham=['auto', 'ball_tree', 'kd_tree', 'brute']\n",
    "metric=['minkowski','Euclidean']"
   ]
  },
  {
   "cell_type": "code",
   "execution_count": null,
   "id": "d3057ed9",
   "metadata": {},
   "outputs": [],
   "source": [
    "#Convert to dictionary\n",
    "kNN_grid={'n_neighbors':n_neighbors,'weights':weights,'leaf_size':leaf_size,'metric':metric}\n",
    "\n",
    "#Use GridSearch\n",
    "random_cv = RandomizedSearchCV(estimator=model,param_distributions=kNN_grid,cv=5,random_state=42,n_jobs=1,scoring='r2')\n",
    "\n",
    "#Fit the model\n",
    "random_cv.fit(x_train,y_train)"
   ]
  },
  {
   "cell_type": "code",
   "execution_count": null,
   "id": "d0991064",
   "metadata": {},
   "outputs": [],
   "source": [
    "#Print The value of best Hyperparameters\n",
    "random_cv.best_estimator_"
   ]
  },
  {
   "cell_type": "code",
   "execution_count": null,
   "id": "def931a8",
   "metadata": {},
   "outputs": [],
   "source": [
    "random_cv.best_params_"
   ]
  },
  {
   "cell_type": "code",
   "execution_count": null,
   "id": "ee0abfc3",
   "metadata": {},
   "outputs": [],
   "source": [
    "random_cv.best_score_"
   ]
  },
  {
   "cell_type": "code",
   "execution_count": null,
   "id": "00084c6a",
   "metadata": {},
   "outputs": [],
   "source": [
    "\n",
    "random_cv.fit(x_test, y_test)"
   ]
  },
  {
   "cell_type": "code",
   "execution_count": null,
   "id": "ceff3806",
   "metadata": {},
   "outputs": [],
   "source": [
    "random_cv.best_score_"
   ]
  },
  {
   "cell_type": "code",
   "execution_count": null,
   "id": "8d0ff2c2",
   "metadata": {},
   "outputs": [],
   "source": [
    "df.shape"
   ]
  },
  {
   "attachments": {},
   "cell_type": "markdown",
   "id": "11c39398",
   "metadata": {},
   "source": [
    "# AdaBoost"
   ]
  },
  {
   "cell_type": "code",
   "execution_count": null,
   "id": "f621d536",
   "metadata": {},
   "outputs": [],
   "source": [
    "model=AdaBoostRegressor(learning_rate=0.01, loss = 'exponential', n_estimators=100)\n",
    "model.fit(x_train,y_train)\n",
    "y_predict=model.predict(x_test)\n",
    "print('AdaBoostRegressor',model.score(x_train,y_train)*100)\n",
    "print('AdaBoostRegressor',model.score(x_test,y_test)*100)\n",
    "print('Mean Squard Error IS :     ',mean_squared_error(y_test, y_predict))\n",
    "print('Mean Absolute Error Is :   ',mean_absolute_error(y_test, y_predict))\n",
    "print('Median Absolute Error Is : ',median_absolute_error(y_test, y_predict))"
   ]
  },
  {
   "attachments": {},
   "cell_type": "markdown",
   "id": "19bccf4f",
   "metadata": {},
   "source": [
    "# \n",
    "Hyper parameter tunning for AdaBoost"
   ]
  },
  {
   "cell_type": "code",
   "execution_count": null,
   "id": "6b747dda",
   "metadata": {},
   "outputs": [],
   "source": [
    "#List Hyperparameters that we want to tune.\n",
    "param_dist = {\n",
    "                'n_estimators': [50, 100],\n",
    "                'learning_rate' : [0.01,0.05,0.1,0.3,1],\n",
    "                'loss' : ['linear', 'square', 'exponential']\n",
    "                }\n",
    "\n",
    "\n",
    "#Convert to dictionary\n",
    "pre_gs_inst = RandomizedSearchCV(estimator=model,param_distributions = param_dist,cv=3,n_iter = 10,n_jobs=-1)\n",
    "\n",
    "#Fit the model\n",
    "pre_gs_inst.fit(x_train, y_train)"
   ]
  },
  {
   "cell_type": "code",
   "execution_count": null,
   "id": "27b69606",
   "metadata": {},
   "outputs": [],
   "source": [
    "#Print The value of best Hyperparameters\n",
    "pre_gs_inst.best_params_"
   ]
  },
  {
   "cell_type": "code",
   "execution_count": null,
   "id": "bfbaea94",
   "metadata": {},
   "outputs": [],
   "source": [
    "pre_gs_inst.best_score_"
   ]
  },
  {
   "cell_type": "code",
   "execution_count": null,
   "id": "2b1f482e",
   "metadata": {},
   "outputs": [],
   "source": [
    "pre_gs_inst.fit(x_test, y_test)"
   ]
  },
  {
   "cell_type": "code",
   "execution_count": null,
   "id": "7cc61729",
   "metadata": {},
   "outputs": [],
   "source": [
    "pre_gs_inst.best_score_"
   ]
  },
  {
   "attachments": {},
   "cell_type": "markdown",
   "id": "7e097a28",
   "metadata": {},
   "source": [
    "# GradientBoostingRegressor"
   ]
  },
  {
   "cell_type": "code",
   "execution_count": null,
   "id": "b231107c",
   "metadata": {},
   "outputs": [],
   "source": [
    "model=GradientBoostingRegressor(learning_rate=0.01, loss='squared_error', n_estimators=100)\n",
    "model.fit(x_train,y_train)\n",
    "y_predict=model.predict(x_test)\n",
    "print('GradientBoostingRegressor',model.score(x_train,y_train)*100)\n",
    "print('GradientBoostingRegressor',model.score(x_test,y_test)*100)\n",
    "print('Mean Squard Error IS :     ',mean_squared_error(y_test, y_predict))\n",
    "print('Mean Absolute Error Is :   ',mean_absolute_error(y_test, y_predict))\n",
    "print('Median Absolute Error Is : ',median_absolute_error(y_test, y_predict))"
   ]
  },
  {
   "attachments": {},
   "cell_type": "markdown",
   "id": "f9a5c54a",
   "metadata": {},
   "source": [
    "# Hyper parameter tunning for GradientBoostingRegressor"
   ]
  },
  {
   "cell_type": "code",
   "execution_count": null,
   "id": "75409097",
   "metadata": {},
   "outputs": [],
   "source": [
    "from scipy.stats import loguniform\n",
    "\n",
    "### Hyper parameter tunning for GradientBoostingRegressor\n",
    "param_dist = {\"n_estimators\": [1, 2, 5, 10, 20, 50, 100, 200, 500],\n",
    "              \"max_leaf_nodes\": [2, 5, 10, 20, 50, 100],\n",
    "              \"learning_rate\": loguniform(0.01, 1),\n",
    "              \"loss\": ['squared_error', 'absolute_error', 'huber', 'quantile']}"
   ]
  },
  {
   "cell_type": "code",
   "execution_count": null,
   "id": "b683c06d",
   "metadata": {},
   "outputs": [],
   "source": [
    "# Instantiate the RandomizedSearchCV object: tree_cv\n",
    "pre_gbr_inst = RandomizedSearchCV(estimator=model,param_distributions=param_dist,cv=5,random_state=42,n_jobs=1,scoring='r2')\n",
    "\n",
    "#Fit the model\n",
    "pre_gbr_inst.fit(x_train,y_train)"
   ]
  },
  {
   "cell_type": "code",
   "execution_count": null,
   "id": "2d6be2bd",
   "metadata": {},
   "outputs": [],
   "source": [
    "# print best parameter after tuning\n",
    "pre_gbr_inst.best_params_"
   ]
  },
  {
   "cell_type": "code",
   "execution_count": null,
   "id": "3d155625",
   "metadata": {},
   "outputs": [],
   "source": [
    "pre_gbr_inst.best_score_"
   ]
  },
  {
   "cell_type": "code",
   "execution_count": null,
   "id": "405f8e16",
   "metadata": {},
   "outputs": [],
   "source": [
    "pre_gbr_inst.fit(x_test, y_test)"
   ]
  },
  {
   "cell_type": "code",
   "execution_count": null,
   "id": "88adefad",
   "metadata": {},
   "outputs": [],
   "source": [
    "pre_gbr_inst.best_score_"
   ]
  },
  {
   "cell_type": "code",
   "execution_count": null,
   "id": "1a9fdf32",
   "metadata": {},
   "outputs": [],
   "source": [
    "df.head()"
   ]
  },
  {
   "attachments": {},
   "cell_type": "markdown",
   "id": "e64e4557",
   "metadata": {},
   "source": [
    "# Support Vector Regression (SVR)"
   ]
  },
  {
   "cell_type": "code",
   "execution_count": null,
   "id": "99ff7dea",
   "metadata": {},
   "outputs": [],
   "source": [
    "#kernel='rbf', degree=3, gamma='scale',tol=0.001, C=1.0, epsilon=0.1, shrinking=True, cache_size=200, verbose=False, max_iter=-1\n",
    "model=SVR()\n",
    "model.fit(x_train,y_train)\n",
    "y_predict=model.predict(x_test)\n",
    "print('SVR',model.score(x_train,y_train)*100)\n",
    "print('SVR',model.score(x_test,y_test)*100)\n",
    "print('Mean Squard Error IS :     ',mean_squared_error(y_test, y_predict))\n",
    "print('Mean Absolute Error Is :   ',mean_absolute_error(y_test, y_predict))\n",
    "print('Median Absolute Error Is : ',median_absolute_error(y_test, y_predict))"
   ]
  },
  {
   "attachments": {},
   "cell_type": "markdown",
   "id": "641a1548",
   "metadata": {},
   "source": [
    "# Hyper parameter tunning for Support Vector Regression (SVR)"
   ]
  },
  {
   "cell_type": "code",
   "execution_count": null,
   "id": "92f93393",
   "metadata": {},
   "outputs": [],
   "source": [
    "# defining parameter range\n",
    "param_grid = {'C': [0.1, 1, 10, 100, 1000],\n",
    "              'gamma': [1, 0.1, 0.01, 0.001, 0.0001],\n",
    "              'kernel': ['linear', 'poly', 'rbf', 'sigmoid', 'precomputed']} "
   ]
  },
  {
   "cell_type": "code",
   "execution_count": null,
   "id": "dd7e1fb5",
   "metadata": {},
   "outputs": [],
   "source": [
    "from sklearn.model_selection import GridSearchCV\n",
    "\n",
    "# Instantiate the Support Vector Regression (SVR) \n",
    "pre_svr_inst = GridSearchCV(SVR(), param_grid, refit = True, verbose = 3, cv=2, random_state=42, n_jobs=-1, scoring='r2')\n",
    "  \n",
    "# fitting the model for grid search\n",
    "pre_svr_inst.fit(x_train, y_train)"
   ]
  },
  {
   "cell_type": "code",
   "execution_count": null,
   "id": "e98f0f70",
   "metadata": {},
   "outputs": [],
   "source": [
    "# print best parameter after tuning\n",
    "print(pre_svr_inst.best_params_)"
   ]
  },
  {
   "cell_type": "code",
   "execution_count": null,
   "id": "72a9a843",
   "metadata": {},
   "outputs": [],
   "source": [
    "# print how our model looks after hyper-parameter tuning\n",
    "print(pre_svr_inst.best_estimator_)"
   ]
  },
  {
   "cell_type": "code",
   "execution_count": null,
   "id": "b49c2393",
   "metadata": {},
   "outputs": [],
   "source": [
    "pre_svr_inst.best_score_"
   ]
  },
  {
   "cell_type": "code",
   "execution_count": null,
   "id": "64c26793",
   "metadata": {},
   "outputs": [],
   "source": [
    "pre_svr_inst.fit(x_test, y_test)"
   ]
  },
  {
   "cell_type": "code",
   "execution_count": null,
   "id": "42a47fe3",
   "metadata": {},
   "outputs": [],
   "source": [
    "print(pre_svr_inst.best_score_)"
   ]
  },
  {
   "attachments": {},
   "cell_type": "markdown",
   "id": "a2bf716f",
   "metadata": {},
   "source": [
    "Nu Support Vector Regression (NuSVR)"
   ]
  },
  {
   "cell_type": "code",
   "execution_count": null,
   "id": "79189171",
   "metadata": {},
   "outputs": [],
   "source": [
    "from sklearn.svm import NuSVR\n",
    "model=NuSVR(nu=0.5,C=1.0, cache_size=200, coef0=0.0, degree=3, gamma='scale', kernel='rbf',\n",
    "            max_iter=-1, shrinking=True, tol=0.001, verbose=False) \n",
    "model.fit(x_train,y_train)\n",
    "y_predict=model.predict(x_test)\n",
    "print('NuSVR',model.score(x_train,y_train)*100)\n",
    "print('NuSVR',model.score(x_test,y_test)*100)\n",
    "print('Mean Squard Error IS :     ',mean_squared_error(y_test, y_predict))\n",
    "print('Mean Absolute Error Is :   ',mean_absolute_error(y_test, y_predict))\n",
    "print('Median Absolute Error Is : ',median_absolute_error(y_test, y_predict))"
   ]
  },
  {
   "attachments": {},
   "cell_type": "markdown",
   "id": "3c4b10a7",
   "metadata": {},
   "source": [
    "# Linear Regression"
   ]
  },
  {
   "cell_type": "code",
   "execution_count": null,
   "id": "934ab882",
   "metadata": {},
   "outputs": [],
   "source": [
    "X = after_EDA_data.drop('ANNUAL',axis=1)\n",
    "y=after_EDA_data['ANNUAL']"
   ]
  },
  {
   "cell_type": "code",
   "execution_count": null,
   "id": "26495bb8",
   "metadata": {},
   "outputs": [],
   "source": [
    "from sklearn.model_selection import train_test_split\n",
    "x_train,x_test,y_train,y_test=train_test_split(X,y,test_size=0.33, random_state=42)\n",
    "x_train.shape,x_test.shape,y_train.shape,y_test.shape"
   ]
  },
  {
   "cell_type": "code",
   "execution_count": null,
   "id": "7f2c080c",
   "metadata": {},
   "outputs": [],
   "source": [
    "model=LinearRegression()\n",
    "model.fit(x_train,y_train)\n",
    "y_predict=model.predict(x_test)\n",
    "print('LinearRegression',model.score(x_train,y_train)*100)\n",
    "print('LinearRegression',model.score(x_test,y_test)*100)\n",
    "print('Mean Squard Error IS :     ',mean_squared_error(y_test, y_predict))\n",
    "print('Mean Absolute Error Is :   ',mean_absolute_error(y_test, y_predict))\n",
    "print('Median Absolute Error Is : ',median_absolute_error(y_test, y_predict))"
   ]
  },
  {
   "attachments": {},
   "cell_type": "markdown",
   "id": "f7f340a8",
   "metadata": {},
   "source": [
    "ElasticNet"
   ]
  },
  {
   "cell_type": "code",
   "execution_count": null,
   "id": "613b8cf9",
   "metadata": {},
   "outputs": [],
   "source": [
    "model=ElasticNet()\n",
    "model.fit(x_train,y_train)\n",
    "y_predict=model.predict(x_test)\n",
    "print('ElasticNet',model.score(x_train,y_train)*100)\n",
    "print('ElasticNet',model.score(x_test,y_test)*100)\n",
    "print('Mean Squard Error IS :     ',mean_squared_error(y_test, y_predict))\n",
    "print('Mean Absolute Error Is :   ',mean_absolute_error(y_test, y_predict))\n",
    "print('Median Absolute Error Is : ',median_absolute_error(y_test, y_predict))"
   ]
  },
  {
   "attachments": {},
   "cell_type": "markdown",
   "id": "ecb72967",
   "metadata": {},
   "source": [
    "LAsso"
   ]
  },
  {
   "cell_type": "code",
   "execution_count": null,
   "id": "347e29e8",
   "metadata": {},
   "outputs": [],
   "source": [
    "model=Lasso()\n",
    "model.fit(x_train,y_train)\n",
    "y_predict=model.predict(x_test)\n",
    "print('Lasso',model.score(x_train,y_train)*100)\n",
    "print('Lasso',model.score(x_test,y_test)*100)\n",
    "print('Mean Squard Error IS :     ',mean_squared_error(y_test, y_predict))\n",
    "print('Mean Absolute Error Is :   ',mean_absolute_error(y_test, y_predict))\n",
    "print('Median Absolute Error Is : ',median_absolute_error(y_test, y_predict))"
   ]
  },
  {
   "attachments": {},
   "cell_type": "markdown",
   "id": "762397d9",
   "metadata": {},
   "source": [
    "# Ridge"
   ]
  },
  {
   "cell_type": "code",
   "execution_count": null,
   "id": "a9cb95e2",
   "metadata": {},
   "outputs": [],
   "source": [
    "\n",
    "model=Ridge()\n",
    "model.fit(x_train,y_train)\n",
    "y_predict=model.predict(x_test)\n",
    "print('Ridge',model.score(x_train,y_train)*100)\n",
    "print('Ridge',model.score(x_test,y_test)*100)\n",
    "print('Mean Squard Error IS :     ',mean_squared_error(y_test, y_predict))\n",
    "print('Mean Absolute Error Is :   ',mean_absolute_error(y_test, y_predict))\n",
    "print('Median Absolute Error Is : ',median_absolute_error(y_test, y_predict))"
   ]
  },
  {
   "attachments": {},
   "cell_type": "markdown",
   "id": "9e713c3f",
   "metadata": {},
   "source": [
    "# Random Forest"
   ]
  },
  {
   "cell_type": "code",
   "execution_count": null,
   "id": "fe0fbf84",
   "metadata": {},
   "outputs": [],
   "source": [
    "model=RandomForestRegressor(random_state=42)\n",
    "model.fit(x_train,y_train)\n",
    "y_predict=model.predict(x_test)\n",
    "print('LinearRegression',model.score(x_train,y_train)*100)\n",
    "print('LinearRegression',model.score(x_test,y_test)*100)\n",
    "print('Mena Squard Error IS :     ',mean_squared_error(y_test, y_predict))\n",
    "print('Mean Absolute Error Is :   ',mean_absolute_error(y_test, y_predict))\n",
    "print('Median Absolute Error Is : ',median_absolute_error(y_test, y_predict))"
   ]
  },
  {
   "attachments": {},
   "cell_type": "markdown",
   "id": "df7a217d",
   "metadata": {},
   "source": [
    "Hyper parameter tunning for Random Forest"
   ]
  },
  {
   "cell_type": "code",
   "execution_count": null,
   "id": "be455dd7",
   "metadata": {},
   "outputs": [],
   "source": [
    "random_grid = { \n",
    "    'bootstrap': [True], \n",
    "    'max_depth': [10, 20, 30, 40, 50, 60, 70, 80, 90, 100, None], \n",
    "    'max_features': ['auto', 'sqrt'],\n",
    "    'min_samples_leaf': [1, 2, 4],\n",
    "    'min_samples_split': [2, 5, 10],\n",
    "    'n_estimators': [200, 400, 600, 800, 1000, 1200, 1400, 1600, 1800, 2000]}"
   ]
  },
  {
   "cell_type": "code",
   "execution_count": null,
   "id": "95967df1",
   "metadata": {},
   "outputs": [],
   "source": [
    "# Using the random grid and searching for best hyperparameters\n",
    "rf = RandomForestRegressor() #creating base model\n",
    "\n",
    "random_cv_rf = RandomizedSearchCV(estimator = rf, param_distributions = random_grid, n_iter = 100, \n",
    "                                  cv = 2, verbose=2, random_state=42, n_jobs = -1)"
   ]
  },
  {
   "cell_type": "code",
   "execution_count": null,
   "id": "ae0fb2c6",
   "metadata": {},
   "outputs": [],
   "source": [
    "random_cv_rf.fit(x_train,y_train)"
   ]
  },
  {
   "cell_type": "code",
   "execution_count": null,
   "id": "660866ac",
   "metadata": {},
   "outputs": [],
   "source": [
    "# print best parameter after tuning\n",
    "print(random_cv_rf.best_params_)\n",
    "# print how our model looks after hyper-parameter tuning\n",
    "#print(random_cv_rf.best_estimator_)\n",
    "print('random_cv_rf.best_score_',random_cv_rf.best_score_)\n",
    "print('random_cv_rf.fit(x_test, y_test)', random_cv_rf.fit(x_test, y_test))\n",
    "print('random_cv_rf.best_score_',random_cv_rf.best_score_)"
   ]
  },
  {
   "attachments": {},
   "cell_type": "markdown",
   "id": "a39600ee",
   "metadata": {},
   "source": [
    "Hyper parameter tunning for Random Forest using GridSearchCV"
   ]
  },
  {
   "cell_type": "code",
   "execution_count": null,
   "id": "d2bdb62f",
   "metadata": {},
   "outputs": [],
   "source": [
    "from sklearn.model_selection import GridSearchCV\n",
    "\n",
    "# Create the parameter grid based on the results of random search \n",
    "\n",
    "param_grid = {'bootstrap': [True], \n",
    "              'max_depth': [80, 90, 100, 110], \n",
    "              'max_features': [2, 3], \n",
    "              'min_samples_leaf': [3, 4, 5], \n",
    "              'min_samples_split': [8, 10, 12],\n",
    "              'n_estimators': [100, 200, 300, 1000]\n",
    "             }"
   ]
  },
  {
   "cell_type": "code",
   "execution_count": null,
   "id": "e27047f7",
   "metadata": {},
   "outputs": [],
   "source": [
    "# Create a based model\n",
    "\n",
    "rf = RandomForestRegressor()\n",
    "\n",
    "# Instantiate the grid search model\n",
    "\n",
    "grid_search_rf = GridSearchCV(estimator = rf, param_grid = param_grid, \n",
    "                              cv = 3, n_jobs = -1, verbose = 2)"
   ]
  },
  {
   "cell_type": "code",
   "execution_count": null,
   "id": "d1a44a2a",
   "metadata": {},
   "outputs": [],
   "source": [
    "# Fit the grid search to the data\n",
    "\n",
    "grid_search_rf.fit(x_train,y_train)"
   ]
  },
  {
   "cell_type": "code",
   "execution_count": null,
   "id": "06f53127",
   "metadata": {},
   "outputs": [],
   "source": [
    "# print best parameter after tuning\n",
    "print(grid_search_rf.best_params_)"
   ]
  },
  {
   "cell_type": "code",
   "execution_count": null,
   "id": "d2b64315",
   "metadata": {},
   "outputs": [],
   "source": [
    "\n",
    "# print how our model looks after hyper-parameter tuning\n",
    "print(grid_search_rf.best_estimator_)"
   ]
  },
  {
   "cell_type": "code",
   "execution_count": null,
   "id": "41918910",
   "metadata": {},
   "outputs": [],
   "source": [
    "print(grid_search_rf.best_score_)"
   ]
  },
  {
   "cell_type": "code",
   "execution_count": null,
   "id": "f5df21ae",
   "metadata": {},
   "outputs": [],
   "source": [
    "grid_search_rf.fit(x_test, y_test)"
   ]
  },
  {
   "cell_type": "code",
   "execution_count": null,
   "id": "678f41e3",
   "metadata": {},
   "outputs": [],
   "source": [
    "\n",
    "grid_search_rf.best_score_"
   ]
  },
  {
   "attachments": {},
   "cell_type": "markdown",
   "id": "8ca503be",
   "metadata": {},
   "source": [
    "# XGBRegressor"
   ]
  },
  {
   "cell_type": "code",
   "execution_count": null,
   "id": "ca504898",
   "metadata": {},
   "outputs": [],
   "source": [
    "from xgboost import XGBRegressor \n",
    "\n",
    "model=XGBRegressor()\n",
    "model.fit(x_train,y_train)\n",
    "y_predict=model.predict(x_test)\n",
    "print('XGBRegressor',model.score(x_train,y_train)*100)\n",
    "print('XGBRegressor',model.score(x_test,y_test)*100)\n",
    "print('Mena Squard Error IS :     ',mean_squared_error(y_test, y_predict))\n",
    "print('Mean Absolute Error Is :   ',mean_absolute_error(y_test, y_predict))\n",
    "print('Median Absolute Error Is : ',median_absolute_error(y_test, y_predict))"
   ]
  },
  {
   "attachments": {},
   "cell_type": "markdown",
   "id": "50da2464",
   "metadata": {},
   "source": [
    "Hyper parameter tunning for XGBRegressor"
   ]
  },
  {
   "cell_type": "code",
   "execution_count": null,
   "id": "aedf1c2b",
   "metadata": {},
   "outputs": [],
   "source": [
    "hyper_grid = {\n",
    "    'n_estimators': [100, 400, 800],\n",
    "    'max_depth': [3, 6, 9],\n",
    "    'learning_rate': [0.05, 0.1, 0.20],\n",
    "    'min_child_weight': [1, 10, 100]\n",
    "    }"
   ]
  },
  {
   "cell_type": "code",
   "execution_count": null,
   "id": "012939e5",
   "metadata": {},
   "outputs": [],
   "source": [
    "# Create a based model\n",
    "\n",
    "XGBR = XGBRegressor()\n",
    "\n",
    "# Instantiate the grid search model\n",
    "\n",
    "grid_xgbr = RandomizedSearchCV(XGBR, hyper_grid, scoring=\"accuracy\", n_iter = 500, cv=4)"
   ]
  },
  {
   "cell_type": "code",
   "execution_count": null,
   "id": "5fa31bb5",
   "metadata": {},
   "outputs": [],
   "source": [
    "# Fit the grid search to the data\n",
    "\n",
    "grid_xgbr.fit(x_train,y_train)"
   ]
  },
  {
   "cell_type": "code",
   "execution_count": null,
   "id": "9bd1aae5",
   "metadata": {},
   "outputs": [],
   "source": [
    "# print best parameter after tuning\n",
    "print(grid_xgbr.best_params_)"
   ]
  },
  {
   "cell_type": "code",
   "execution_count": null,
   "id": "c8ade269",
   "metadata": {},
   "outputs": [],
   "source": [
    "grid_xgbr.best_score_"
   ]
  },
  {
   "cell_type": "code",
   "execution_count": null,
   "id": "a67d6832",
   "metadata": {},
   "outputs": [],
   "source": [
    "grid_xgbr.fit(x_test, y_test)"
   ]
  },
  {
   "cell_type": "code",
   "execution_count": null,
   "id": "66877568",
   "metadata": {},
   "outputs": [],
   "source": [
    "grid_xgbr.best_score_"
   ]
  },
  {
   "attachments": {},
   "cell_type": "markdown",
   "id": "3deb0a60",
   "metadata": {},
   "source": [
    "# Conclusion\n",
    "The dataset has been examined, the multiple model has been created, and the outcomes have been forecasted using the test data in accordance with the stated objectives. \n",
    "\n",
    "\n",
    "In the project at hand, we made an effort to apply every method and the hyper parameter, however because of the hyper parameter, the project will be take longer to complete."
   ]
  },
  {
   "cell_type": "code",
   "execution_count": null,
   "id": "2f9d9d0e",
   "metadata": {},
   "outputs": [],
   "source": []
  }
 ],
 "metadata": {
  "kernelspec": {
   "display_name": "Python 3",
   "language": "python",
   "name": "python3"
  },
  "language_info": {
   "codemirror_mode": {
    "name": "ipython",
    "version": 3
   },
   "file_extension": ".py",
   "mimetype": "text/x-python",
   "name": "python",
   "nbconvert_exporter": "python",
   "pygments_lexer": "ipython3",
   "version": "3.10.6"
  },
  "vscode": {
   "interpreter": {
    "hash": "a79c033472556955bf7bc972dadfc28751fe93ccf05084c8e6ce1930f995b37a"
   }
  }
 },
 "nbformat": 4,
 "nbformat_minor": 5
}
